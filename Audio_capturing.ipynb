{
 "cells": [
  {
   "cell_type": "markdown",
   "metadata": {},
   "source": [
    "This file is used to extract audio from a video that is currently in use. Please provide the link to the video."
   ]
  },
  {
   "cell_type": "code",
   "execution_count": 1,
   "metadata": {},
   "outputs": [],
   "source": [
    "#import the libraries we required \n",
    "\n",
    "import numpy as np \n",
    "import moviepy.editor as mv\n",
    "import pandas as pd \n"
   ]
  },
  {
   "cell_type": "markdown",
   "metadata": {},
   "source": [
    "https://www.altexsoft.com/blog/audio-analysis/"
   ]
  },
  {
   "cell_type": "code",
   "execution_count": 9,
   "metadata": {},
   "outputs": [
    {
     "data": {
      "text/plain": [
       "5641.47"
      ]
     },
     "execution_count": 9,
     "metadata": {},
     "output_type": "execute_result"
    }
   ],
   "source": [
    "#lets load the video first\n",
    "#https://moviepy-tburrows13.readthedocs.io/en/improve-docs/ref/VideoClip/VideoFileClip.html\n",
    "\n",
    "match_video = mv.VideoFileClip(\"NBA_2021.mp4\")\n",
    "match_video.duration"
   ]
  },
  {
   "cell_type": "code",
   "execution_count": 10,
   "metadata": {},
   "outputs": [
    {
     "name": "stdout",
     "output_type": "stream",
     "text": [
      "MoviePy - Writing audio in Audio.mp3\n"
     ]
    },
    {
     "name": "stderr",
     "output_type": "stream",
     "text": [
      "                                                                         "
     ]
    },
    {
     "name": "stdout",
     "output_type": "stream",
     "text": [
      "MoviePy - Done.\n"
     ]
    },
    {
     "name": "stderr",
     "output_type": "stream",
     "text": [
      "\r"
     ]
    }
   ],
   "source": [
    "#now capture the audio from our the video object\n",
    "\n",
    "match_audio = match_video.audio\n",
    "match_audio.write_audiofile(\"Audio.mp3\")"
   ]
  },
  {
   "cell_type": "markdown",
   "metadata": {},
   "source": [
    "Audio file is created and saved as a Audio.mp3."
   ]
  },
  {
   "cell_type": "code",
   "execution_count": 12,
   "metadata": {},
   "outputs": [
    {
     "name": "stdout",
     "output_type": "stream",
     "text": [
      "MoviePy - Writing audio in wav_audio.wav\n"
     ]
    },
    {
     "name": "stderr",
     "output_type": "stream",
     "text": [
      "                                                                          "
     ]
    },
    {
     "name": "stdout",
     "output_type": "stream",
     "text": [
      "MoviePy - Done.\n"
     ]
    },
    {
     "name": "stderr",
     "output_type": "stream",
     "text": [
      "\r"
     ]
    }
   ],
   "source": [
    "#optional [we can save audio in wave format as well.] But wave file takes more space for storage.\n",
    "# So for better space optimization we are using mp3 file only.\n",
    "match = match_video.audio\n",
    "match.write_audiofile(\"wav_audio.wav\")"
   ]
  },
  {
   "cell_type": "code",
   "execution_count": 16,
   "metadata": {},
   "outputs": [],
   "source": [
    "# Here the video is of full match so its audio file is also going to be large. So we will first work with part of the file for practice. \n",
    "#Once everything works we will apply it on whole data. "
   ]
  },
  {
   "cell_type": "code",
   "execution_count": 14,
   "metadata": {},
   "outputs": [],
   "source": [
    "import librosa\n",
    "import librosa.display\n",
    "import matplotlib.pyplot as plt \n"
   ]
  },
  {
   "cell_type": "code",
   "execution_count": 15,
   "metadata": {},
   "outputs": [
    {
     "data": {
      "text/plain": [
       "array([0., 0., 0., ..., 0., 0., 0.], dtype=float32)"
      ]
     },
     "execution_count": 15,
     "metadata": {},
     "output_type": "execute_result"
    }
   ],
   "source": [
    "start_time = 1500\n",
    "end_time = 1920\n",
    "\n",
    "#load audio file \n",
    "audio_file, sr = librosa.load(\"Audio.mp3\")\n",
    "audio_file"
   ]
  },
  {
   "cell_type": "code",
   "execution_count": 16,
   "metadata": {},
   "outputs": [
    {
     "name": "stdout",
     "output_type": "stream",
     "text": [
      "Estimated tempo : 129.20 beats per minute\n"
     ]
    }
   ],
   "source": [
    "tempo, beat_frame = librosa.beat.beat_track(y=audio_file, sr=sr)\n",
    "print('Estimated tempo : {:.2f} beats per minute'.format(tempo))\n",
    "beat_times = librosa.frames_to_time(beat_frame, sr=sr)"
   ]
  },
  {
   "cell_type": "code",
   "execution_count": 17,
   "metadata": {},
   "outputs": [
    {
     "data": {
      "text/plain": [
       "array([2.55419501e-01, 6.73378685e-01, 1.20743764e+00, ...,\n",
       "       5.63887311e+03, 5.63938395e+03, 5.63989478e+03])"
      ]
     },
     "execution_count": 17,
     "metadata": {},
     "output_type": "execute_result"
    }
   ],
   "source": [
    "beat_times"
   ]
  },
  {
   "cell_type": "code",
   "execution_count": 18,
   "metadata": {},
   "outputs": [],
   "source": [
    "#lets segment the audio file \n",
    "import soundfile as sf\n",
    "\n",
    "start_index = int(start_time*sr)\n",
    "end_index = int(end_time*sr)\n",
    "\n",
    "#now lets extract the specified moments\n",
    "\n",
    "segmented_audio = audio_file[start_index:end_index]\n",
    "\n",
    "#save the file into our folder\n",
    "sf.write('segmented_audio.mp3', segmented_audio, samplerate=sr)"
   ]
  },
  {
   "cell_type": "code",
   "execution_count": null,
   "metadata": {},
   "outputs": [],
   "source": []
  }
 ],
 "metadata": {
  "kernelspec": {
   "display_name": "Python 3",
   "language": "python",
   "name": "python3"
  },
  "language_info": {
   "codemirror_mode": {
    "name": "ipython",
    "version": 3
   },
   "file_extension": ".py",
   "mimetype": "text/x-python",
   "name": "python",
   "nbconvert_exporter": "python",
   "pygments_lexer": "ipython3",
   "version": "3.11.9"
  }
 },
 "nbformat": 4,
 "nbformat_minor": 2
}
